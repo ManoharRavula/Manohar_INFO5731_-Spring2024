{
  "cells": [
    {
      "cell_type": "markdown",
      "metadata": {
        "id": "view-in-github",
        "colab_type": "text"
      },
      "source": [
        "<a href=\"https://colab.research.google.com/github/ManoharRavula/Manohar_INFO5731_-Spring2024/blob/main/INFO5731_Assignment_1_Spring_2024.ipynb\" target=\"_parent\"><img src=\"https://colab.research.google.com/assets/colab-badge.svg\" alt=\"Open In Colab\"/></a>"
      ]
    },
    {
      "cell_type": "markdown",
      "metadata": {
        "id": "Ryk8D1Q4Wsrp"
      },
      "source": [
        "# **INFO5731 Assignment One**"
      ]
    },
    {
      "cell_type": "markdown",
      "source": [
        "This assignment includes range of programming tasks and data analysis exercises, aiming to enhance your Python skills and proficiency in string manipulation, numerical computations, and data science. Follow the instructions carefully and design well-structured Python programs to address each question.\n",
        "\n",
        "Late Submission will have a penalty of 10% reduction for each day after the deadline."
      ],
      "metadata": {
        "id": "qcP6re2g5A5r"
      }
    },
    {
      "cell_type": "markdown",
      "metadata": {
        "id": "JkzR8cFAyGik"
      },
      "source": [
        "# Question 1 (10 points).\n",
        "\n",
        "The formula that describes the volume V of a hemisphere with radius r is the following:\n",
        "\n",
        "$ V=\\frac{2}{3}\\ast\\ \\pi\\ast\\ r^3 $\n",
        "\n",
        "Write a program to calculate the value of V when r is in the range of even numbers from 1-20. Output the result in the following format:\n",
        "\n",
        "\tr\tV\n",
        "\t2\t…\n",
        "\t4\t…\n",
        "\t6\t…\n",
        "\t.\n",
        "\t.\n",
        "\t.\n",
        "\t20\t…\n"
      ]
    },
    {
      "cell_type": "code",
      "execution_count": 1,
      "metadata": {
        "id": "jDyTKYs-yGit",
        "colab": {
          "base_uri": "https://localhost:8080/"
        },
        "outputId": "fd3066fc-c158-4b75-ce6e-881cc1e59411"
      },
      "outputs": [
        {
          "output_type": "stream",
          "name": "stdout",
          "text": [
            "r    V\n",
            "2    16.76\n",
            "4    134.04\n",
            "6    452.39\n",
            "8    1072.33\n",
            "10    2094.40\n",
            "12    3619.11\n",
            "14    5747.02\n",
            "16    8578.64\n",
            "18    12214.51\n",
            "20    16755.16\n"
          ]
        }
      ],
      "source": [
        "# Your code here\n",
        "import numpy as num\n",
        "\n",
        "def calhemvolume():\n",
        "    pi = num.pi\n",
        "    print(\"r    V\")\n",
        "    for r in range(2, 21, 2):\n",
        "        # Calculation of the hemisphere\n",
        "        V = (2/3) * pi * (r**3)\n",
        "        print(f\"{r}    {V:.2f}\")\n",
        "calhemvolume()\n",
        "\n"
      ]
    },
    {
      "cell_type": "markdown",
      "metadata": {
        "id": "90_NR8c5XGWc"
      },
      "source": [
        "# Question 2 (20 points)\n",
        "\n",
        "(a) Write a Python program to generate a sequence of 12 random numbers falling within the range of 50 to 150.\n",
        "\n",
        "(b) Arrange the generated numbers in ascending order. Display the sorted list.\n",
        "\n",
        "(c) Extend the program to arrange the numbers in descending order as well. Present the sorted list accordingly.\n",
        "\n",
        "(d) Compute and output the average of the entire group of generated numbers.\n",
        "\n",
        "(e) Enhance the program to calculate and display the average of the first 6 numbers from both the ascending and descending sorted lists."
      ]
    },
    {
      "cell_type": "code",
      "execution_count": 1,
      "metadata": {
        "id": "5QX6bJjGWXY9",
        "colab": {
          "base_uri": "https://localhost:8080/"
        },
        "outputId": "17607bb2-e6b6-40d4-b258-0e715f0cd05a"
      },
      "outputs": [
        {
          "output_type": "stream",
          "name": "stdout",
          "text": [
            "Ascending order of numbers: [50, 50, 57, 64, 105, 115, 122, 139, 140, 140, 143, 146]\n",
            "Descending order of numbers: [146, 143, 140, 140, 139, 122, 115, 105, 64, 57, 50, 50]\n",
            "Average of all numbers: 105.92\n",
            "Average of the first 6 numbers (ascending): 73.50\n",
            "Average of the first 6 numbers (descending): 138.33\n"
          ]
        }
      ],
      "source": [
        "# Write code for each of the sub parts with proper comments.\n",
        "import random\n",
        "\n",
        "# (a) Generating the sequence of 12 different numbers within the range of 50 to 150\n",
        "randomNumbers = [random.randint(50, 150) for _ in range(12)]\n",
        "\n",
        "# (b) Arranging the numbers in ascending order\n",
        "ascendingOrder = sorted(randomNumbers)\n",
        "print(f\"Ascending order of numbers: {ascendingOrder}\")\n",
        "\n",
        "# (c) Arranging the numbers in descending order\n",
        "descendingOrder = sorted(randomNumbers, reverse=True)\n",
        "print(f\"Descending order of numbers: {descendingOrder}\")\n",
        "\n",
        "# (d) compute and average of the numbers\n",
        "average = sum(randomNumbers) / len(randomNumbers)\n",
        "print(f\"Average of all numbers: {average:.2f}\")\n",
        "\n",
        "# (e) Calculate and display the average of the first 6 numbers from both sorted lists\n",
        "avgfirstsixascending = sum(ascendingOrder[:6]) / 6\n",
        "avgfirstsixdescending = sum(descendingOrder[:6]) / 6\n",
        "print(f\"Average of the first 6 numbers (ascending): {avgfirstsixascending:.2f}\")\n",
        "print(f\"Average of the first 6 numbers (descending): {avgfirstsixdescending:.2f}\")\n",
        "\n"
      ]
    },
    {
      "cell_type": "markdown",
      "metadata": {
        "id": "1F_PZdH9Sh49"
      },
      "source": [
        "# Question 3 (20 points).\n",
        "\n",
        "Create a Python program that encompasses various string manipulation task:\n",
        "\n",
        "(a) Prompt the user to input two sentences.\n",
        "\n",
        "(b) Transform each sentence into a list, where each element corresponds to a word in the sentence. For example, if the sentences are \"Hello, how are you doing today?\" and \"This is an example sentence for the program!\"\n",
        "\n",
        "The program should output:\n",
        "['Hello', ',', 'how', 'are', 'you', 'doing', 'today', '?', 'This', 'is', 'an', 'example', 'sentence', 'for', 'the', 'program', '!']\n",
        "\n",
        "(c) Compare the two sentences. Print out a list of words that occur in both sentences.\n",
        "\n",
        "(d) Remove any punctuation from the sentence and print the sanitized sentences. It should remove at least the following characters, but it can remove more: period(“.”), comma (“,”), semicolon (“;”), and colon (“:”).\n",
        "\n",
        "(e) Count the number of vowels in each of the sentences. Print out each vowel and the occurrences  in the each of the two sentences separately, such as:\n",
        "\n",
        "Sentence1: a:2, e:2, i:0, etc.\n",
        "Sentence2: a:1, e:2, i:2, etc.\n",
        "\n",
        "Design a well-structured Python program to execute these tasks efficiently."
      ]
    },
    {
      "cell_type": "code",
      "execution_count": 3,
      "metadata": {
        "id": "Y0oOSlsOS0cq",
        "colab": {
          "base_uri": "https://localhost:8080/"
        },
        "outputId": "7ff62e54-3408-43e5-a23e-1df17dfe2f84"
      },
      "outputs": [
        {
          "output_type": "stream",
          "name": "stdout",
          "text": [
            "Enter the first sentence: What is your name?\n",
            "Enter the second sentence: My name is Manohar\n",
            "Transformed sentences into lists: ['What', 'is', 'your', 'name', '?', 'My', 'name', 'is', 'Manohar']\n",
            "Common words in both sentences: {'is', 'name'}\n",
            "cleaned sentence 1: What is your name\n",
            "cleaned sentence 2: My name is Manohar\n",
            "Vowel occurrences in sentence 1: {'a': 2, 'i': 1, 'o': 1, 'u': 1, 'e': 1}\n",
            "Vowel occurrences in sentence 2: {'a': 3, 'e': 1, 'i': 1, 'o': 1}\n"
          ]
        }
      ],
      "source": [
        "# Your code here\n",
        "import re\n",
        "from collections import Counter\n",
        "\n",
        "# (a) Asking the user to input two sentences.\n",
        "firstSentence = input(\"Enter the first sentence: \")\n",
        "secondSentence = input(\"Enter the second sentence: \")\n",
        "\n",
        "# (b) Transforming each sentence to a list of words and punctuation.\n",
        "def transformSentence(sentence):\n",
        "    return re.findall(r'\\w+|[.,!?;:]', sentence)\n",
        "\n",
        "firstSentenceWords = transformSentence(firstSentence)\n",
        "secondSentencewords = transformSentence(secondSentence)\n",
        "print(\"Transformed sentences into lists:\", firstSentenceWords + secondSentencewords)\n",
        "\n",
        "# (c) Comparing two sentences and printing out matched words in both sentences\n",
        "common_words = set(firstSentenceWords).intersection(set(secondSentencewords))\n",
        "print(\"Common words in both sentences:\", common_words)\n",
        "\n",
        "# (d) Removing punctuation from the sentences\n",
        "def removePunctuation(sentence):\n",
        "    return re.sub(r'[.,!?;:]', '', sentence)\n",
        "\n",
        "cleanFirstSentence = removePunctuation(firstSentence)\n",
        "cleanSecondSentence = removePunctuation(secondSentence)\n",
        "print(\"cleaned sentence 1:\", cleanFirstSentence)\n",
        "print(\"cleaned sentence 2:\", cleanSecondSentence)\n",
        "\n",
        "# (e) Counting the number of vowels in each of the sentences.\n",
        "def count_vowels(sentence):\n",
        "    vowels = 'aeiouAEIOU'\n",
        "    counter = Counter([char for char in sentence if char in vowels])\n",
        "    return dict(counter)\n",
        "\n",
        "vowel_count1 = count_vowels(cleanFirstSentence)\n",
        "vowel_count2 = count_vowels(cleanSecondSentence)\n",
        "print(\"Vowel occurrences in sentence 1:\", vowel_count1)\n",
        "print(\"Vowel occurrences in sentence 2:\", vowel_count2)\n",
        "\n"
      ]
    },
    {
      "cell_type": "markdown",
      "source": [
        "# Question 4 (20 Points)"
      ],
      "metadata": {
        "id": "OP4-5qxAtInv"
      }
    },
    {
      "cell_type": "code",
      "source": [],
      "metadata": {
        "id": "0mYEO1UU_o1P"
      },
      "execution_count": null,
      "outputs": []
    },
    {
      "cell_type": "markdown",
      "source": [
        "Design and implement a simple command-line calculator program. The program should handle both integers and floating-point numbers.\n",
        "\n",
        "(a) Write program that takes a mathematical expression as input and evaluates it. The program should support addition, subtraction, multiplication, and division.\n",
        "\n",
        "(b) Extend the calculator to handle parentheses in mathematical expressions. Implement the necessary logic to evaluate expressions with nested parentheses.\n",
        "\n",
        "(c) Enhance your calculator to include additional mathematical operations such as exponentiation, square root, and modulus.\n",
        "\n",
        "(d) Implement error handling in the calculator program. Handle cases such as division by zero and invalid input expressions. Provide meaningful error messages.\n",
        "\n",
        "(e) Implement a command to exit the calculator."
      ],
      "metadata": {
        "id": "uzN4_hDptK9U"
      }
    },
    {
      "cell_type": "code",
      "source": [
        "# Your code here\n",
        "import math\n",
        "\n",
        "def calculator(expression):\n",
        "    # Limiting to use the functions and constants from the math module only\n",
        "    allowedFuntions = {name: obj for name, obj in math.__dict__.items() if not name.startswith(\"__\")}\n",
        "    # Additional allowed names/functions\n",
        "    allowedFuntions.update({\n",
        "        \"sqrt\": math.sqrt,\n",
        "        \"pow\": pow,\n",
        "        \"abs\": abs\n",
        "    })\n",
        "\n",
        "    try:\n",
        "        return eval(expression, {\"__builtins__\": None}, allowedFuntions)\n",
        "    except ZeroDivisionError:\n",
        "        return \"Error: Division by zero.\"\n",
        "    except Exception as e:\n",
        "        return f\"Error: {str(e)}\"\n",
        "\n",
        "def calculate():\n",
        "    print(\"Command-Line Calculator\")\n",
        "    print(\"Supports addition,subtraction,multiplication,division,power-**, modulus-% and sqaute root - sqrt()\")\n",
        "    print(\"To Exit type exit\")\n",
        "\n",
        "    while True:\n",
        "        expression = input(\"Enter numbers to calculate: \").strip()\n",
        "        if expression.lower() == 'exit':\n",
        "            print(\"Exiting calculator.\")\n",
        "            break\n",
        "        if expression:\n",
        "            result = calculator(expression)\n",
        "            print(\"Result:\", result)\n",
        "# checks if the script is running as the main program\n",
        "if __name__ == \"__main__\":\n",
        "    calculate()\n"
      ],
      "metadata": {
        "id": "8nQnVxjJuYtu",
        "colab": {
          "base_uri": "https://localhost:8080/"
        },
        "outputId": "a40d58db-663c-4247-efd8-118f653a73ac"
      },
      "execution_count": 5,
      "outputs": [
        {
          "output_type": "stream",
          "name": "stdout",
          "text": [
            "Command-Line Calculator\n",
            "Supports addition,subtraction,multiplication,division,power-**, modulus-% and sqaute root - sqrt()\n",
            "To Exit type exit\n",
            "Enter numbers to calculate: 2+2\n",
            "Result: 4\n",
            "Enter numbers to calculate: 2*3\n",
            "Result: 6\n",
            "Enter numbers to calculate: sqrt(25)\n",
            "Result: 5.0\n",
            "Enter numbers to calculate: 2**3\n",
            "Result: 8\n",
            "Enter numbers to calculate: 4/0\n",
            "Result: Error: Division by zero.\n",
            "Enter numbers to calculate: 4 divide 4\n",
            "Result: Error: invalid syntax (<string>, line 1)\n",
            "Enter numbers to calculate: exit\n",
            "Exiting calculator.\n"
          ]
        }
      ]
    },
    {
      "cell_type": "markdown",
      "metadata": {
        "id": "z3tBE7E-Xn5X"
      },
      "source": [
        "# Question 5 (30 points).\n",
        "\n",
        "In the field of Data Science, data is often formatted as a comma-delimited (CSV) file, where each line in a file corresponds to a field's value. Refer to Chapter 9 (p. 106) for more information on comma-delimited files.\n",
        "\n",
        "To answer this question, you will need to download the file [Assignment1_denton_housing.csv](https://raw.githubusercontent.com/unt-iialab/info5731-spring2022/main/assignments/Assignment1_denton_housing.csv) included with this assignment. The file contains statistics about housing in the city of Denton from 2008 to 2014. Write a program to implement the following questions.\n",
        "\n",
        "(a) (5 pts) Calculate the difference in the number of Occupied Housing Units from year to year and print it. The difference must be calculated for the consecutive years such as 2008-2009, 2009-2010 etc. Finally, print the values in the ascending order.\n",
        "\n",
        "(b) (5 pts) For all the years, calculate the percentage of housing units which are vacant an occupied. Print the results in the following format:\n",
        "\n",
        "Year Vacant Housing Units Occupied Housing Units\n",
        "\n",
        "    2008  30%   70%                          \n",
        "\t2009 ----- -----\n",
        "\t2010 ----- -----\n",
        "    2011 ----- -----\n",
        "\t2012 ----- -----\n",
        "    2013 ----- -----\n",
        "\t2014 ----- -----\n",
        "  \n",
        "  \n",
        "\n",
        "(c) (10 pts) Calculate and print the valued and years in which the highest number of housing units were vacant and occupied. Print the results in the following format:  \n",
        "\n",
        "                              Year\tValue\n",
        "\tVacant Housing Units\t  -----   -----\n",
        "\tOccupied Housing Units\t-----   -----\n",
        "\n",
        "(d) (10 pts) Calculate the harmonic mean of the total housing units and print it out. You can find the information about harmonic mean here: https://ncalculators.com/statistics/harmonic-mean-calculator.htm"
      ]
    },
    {
      "cell_type": "code",
      "execution_count": 9,
      "metadata": {
        "id": "lqGYuHBhcsRH",
        "colab": {
          "base_uri": "https://localhost:8080/",
          "height": 420
        },
        "outputId": "a3c92448-d578-4d29-bf4a-241ff4af2552"
      },
      "outputs": [
        {
          "output_type": "display_data",
          "data": {
            "text/plain": [
              "<IPython.core.display.HTML object>"
            ],
            "text/html": [
              "\n",
              "     <input type=\"file\" id=\"files-3b159091-b10f-4ede-9abf-647bd731c1bc\" name=\"files[]\" multiple disabled\n",
              "        style=\"border:none\" />\n",
              "     <output id=\"result-3b159091-b10f-4ede-9abf-647bd731c1bc\">\n",
              "      Upload widget is only available when the cell has been executed in the\n",
              "      current browser session. Please rerun this cell to enable.\n",
              "      </output>\n",
              "      <script>// Copyright 2017 Google LLC\n",
              "//\n",
              "// Licensed under the Apache License, Version 2.0 (the \"License\");\n",
              "// you may not use this file except in compliance with the License.\n",
              "// You may obtain a copy of the License at\n",
              "//\n",
              "//      http://www.apache.org/licenses/LICENSE-2.0\n",
              "//\n",
              "// Unless required by applicable law or agreed to in writing, software\n",
              "// distributed under the License is distributed on an \"AS IS\" BASIS,\n",
              "// WITHOUT WARRANTIES OR CONDITIONS OF ANY KIND, either express or implied.\n",
              "// See the License for the specific language governing permissions and\n",
              "// limitations under the License.\n",
              "\n",
              "/**\n",
              " * @fileoverview Helpers for google.colab Python module.\n",
              " */\n",
              "(function(scope) {\n",
              "function span(text, styleAttributes = {}) {\n",
              "  const element = document.createElement('span');\n",
              "  element.textContent = text;\n",
              "  for (const key of Object.keys(styleAttributes)) {\n",
              "    element.style[key] = styleAttributes[key];\n",
              "  }\n",
              "  return element;\n",
              "}\n",
              "\n",
              "// Max number of bytes which will be uploaded at a time.\n",
              "const MAX_PAYLOAD_SIZE = 100 * 1024;\n",
              "\n",
              "function _uploadFiles(inputId, outputId) {\n",
              "  const steps = uploadFilesStep(inputId, outputId);\n",
              "  const outputElement = document.getElementById(outputId);\n",
              "  // Cache steps on the outputElement to make it available for the next call\n",
              "  // to uploadFilesContinue from Python.\n",
              "  outputElement.steps = steps;\n",
              "\n",
              "  return _uploadFilesContinue(outputId);\n",
              "}\n",
              "\n",
              "// This is roughly an async generator (not supported in the browser yet),\n",
              "// where there are multiple asynchronous steps and the Python side is going\n",
              "// to poll for completion of each step.\n",
              "// This uses a Promise to block the python side on completion of each step,\n",
              "// then passes the result of the previous step as the input to the next step.\n",
              "function _uploadFilesContinue(outputId) {\n",
              "  const outputElement = document.getElementById(outputId);\n",
              "  const steps = outputElement.steps;\n",
              "\n",
              "  const next = steps.next(outputElement.lastPromiseValue);\n",
              "  return Promise.resolve(next.value.promise).then((value) => {\n",
              "    // Cache the last promise value to make it available to the next\n",
              "    // step of the generator.\n",
              "    outputElement.lastPromiseValue = value;\n",
              "    return next.value.response;\n",
              "  });\n",
              "}\n",
              "\n",
              "/**\n",
              " * Generator function which is called between each async step of the upload\n",
              " * process.\n",
              " * @param {string} inputId Element ID of the input file picker element.\n",
              " * @param {string} outputId Element ID of the output display.\n",
              " * @return {!Iterable<!Object>} Iterable of next steps.\n",
              " */\n",
              "function* uploadFilesStep(inputId, outputId) {\n",
              "  const inputElement = document.getElementById(inputId);\n",
              "  inputElement.disabled = false;\n",
              "\n",
              "  const outputElement = document.getElementById(outputId);\n",
              "  outputElement.innerHTML = '';\n",
              "\n",
              "  const pickedPromise = new Promise((resolve) => {\n",
              "    inputElement.addEventListener('change', (e) => {\n",
              "      resolve(e.target.files);\n",
              "    });\n",
              "  });\n",
              "\n",
              "  const cancel = document.createElement('button');\n",
              "  inputElement.parentElement.appendChild(cancel);\n",
              "  cancel.textContent = 'Cancel upload';\n",
              "  const cancelPromise = new Promise((resolve) => {\n",
              "    cancel.onclick = () => {\n",
              "      resolve(null);\n",
              "    };\n",
              "  });\n",
              "\n",
              "  // Wait for the user to pick the files.\n",
              "  const files = yield {\n",
              "    promise: Promise.race([pickedPromise, cancelPromise]),\n",
              "    response: {\n",
              "      action: 'starting',\n",
              "    }\n",
              "  };\n",
              "\n",
              "  cancel.remove();\n",
              "\n",
              "  // Disable the input element since further picks are not allowed.\n",
              "  inputElement.disabled = true;\n",
              "\n",
              "  if (!files) {\n",
              "    return {\n",
              "      response: {\n",
              "        action: 'complete',\n",
              "      }\n",
              "    };\n",
              "  }\n",
              "\n",
              "  for (const file of files) {\n",
              "    const li = document.createElement('li');\n",
              "    li.append(span(file.name, {fontWeight: 'bold'}));\n",
              "    li.append(span(\n",
              "        `(${file.type || 'n/a'}) - ${file.size} bytes, ` +\n",
              "        `last modified: ${\n",
              "            file.lastModifiedDate ? file.lastModifiedDate.toLocaleDateString() :\n",
              "                                    'n/a'} - `));\n",
              "    const percent = span('0% done');\n",
              "    li.appendChild(percent);\n",
              "\n",
              "    outputElement.appendChild(li);\n",
              "\n",
              "    const fileDataPromise = new Promise((resolve) => {\n",
              "      const reader = new FileReader();\n",
              "      reader.onload = (e) => {\n",
              "        resolve(e.target.result);\n",
              "      };\n",
              "      reader.readAsArrayBuffer(file);\n",
              "    });\n",
              "    // Wait for the data to be ready.\n",
              "    let fileData = yield {\n",
              "      promise: fileDataPromise,\n",
              "      response: {\n",
              "        action: 'continue',\n",
              "      }\n",
              "    };\n",
              "\n",
              "    // Use a chunked sending to avoid message size limits. See b/62115660.\n",
              "    let position = 0;\n",
              "    do {\n",
              "      const length = Math.min(fileData.byteLength - position, MAX_PAYLOAD_SIZE);\n",
              "      const chunk = new Uint8Array(fileData, position, length);\n",
              "      position += length;\n",
              "\n",
              "      const base64 = btoa(String.fromCharCode.apply(null, chunk));\n",
              "      yield {\n",
              "        response: {\n",
              "          action: 'append',\n",
              "          file: file.name,\n",
              "          data: base64,\n",
              "        },\n",
              "      };\n",
              "\n",
              "      let percentDone = fileData.byteLength === 0 ?\n",
              "          100 :\n",
              "          Math.round((position / fileData.byteLength) * 100);\n",
              "      percent.textContent = `${percentDone}% done`;\n",
              "\n",
              "    } while (position < fileData.byteLength);\n",
              "  }\n",
              "\n",
              "  // All done.\n",
              "  yield {\n",
              "    response: {\n",
              "      action: 'complete',\n",
              "    }\n",
              "  };\n",
              "}\n",
              "\n",
              "scope.google = scope.google || {};\n",
              "scope.google.colab = scope.google.colab || {};\n",
              "scope.google.colab._files = {\n",
              "  _uploadFiles,\n",
              "  _uploadFilesContinue,\n",
              "};\n",
              "})(self);\n",
              "</script> "
            ]
          },
          "metadata": {}
        },
        {
          "output_type": "stream",
          "name": "stdout",
          "text": [
            "Saving Assignment1_denton_housing.csv to Assignment1_denton_housing (3).csv\n",
            "A) Number of Occupied Housing Units from year to year\n",
            "2008-2009: -795\n",
            "2010-2011: -303\n",
            "2011-2012: 1404\n",
            "2012-2013: 1565\n",
            "2013-2014: 2622\n",
            "2009-2010: 5091\n",
            "B) Percentage of housing units which are vacant and occupied\n",
            "2008 10.88% 89.12%\n",
            "2009 9.07% 90.93%\n",
            "2010 8.14% 91.86%\n",
            "2011 9.38% 90.62%\n",
            "2012 6.68% 93.32%\n",
            "2013 8.80% 91.20%\n",
            "2014 5.73% 94.27%\n",
            "c) Value and years in which the highest number of housing units were vacant and occupied\n",
            "                          Year    Value\n",
            "Vacant Housing Units      2008   4483\n",
            "Occupied Housing Units    2014   46295\n",
            "D) Harmonic Mean of total Housing units: 44398.29\n"
          ]
        }
      ],
      "source": [
        " # Your code here\n",
        "from google.colab import files\n",
        "uploaded = files.upload()\n",
        "import csv\n",
        "from collections import defaultdict\n",
        "\n",
        "def readHousingDataFile(filename):\n",
        "    with open(filename, mode='r') as file:\n",
        "        reader = csv.DictReader(file)\n",
        "        data = [row for row in reader]\n",
        "    return data\n",
        "\n",
        "def calyearlyDifferences(data):\n",
        "    occupied = {int(row['year']): int(row['value']) for row in data if row['title_field'] == 'Occupied Housing Units'}\n",
        "    sorted_years = sorted(occupied.keys())\n",
        "    differences = [(sorted_years[i+1], occupied[sorted_years[i+1]] - occupied[sorted_years[i]]) for i in range(len(sorted_years)-1)]\n",
        "    return sorted(differences, key=lambda x: x[1])\n",
        "\n",
        "def calVancyRates(data):\n",
        "    total = {int(row['year']): int(row['value']) for row in data if row['title_field'] == 'Total Housing Units'}\n",
        "    occupied = {int(row['year']): int(row['value']) for row in data if row['title_field'] == 'Occupied Housing Units'}\n",
        "    vacancy_rates = {year: ((total[year] - occupied[year]) / total[year] * 100, occupied[year] / total[year] * 100) for year in total}\n",
        "    return vacancy_rates\n",
        "\n",
        "file = 'Assignment1_denton_housing.csv'\n",
        "data = readHousingDataFile(file)\n",
        "\n",
        "differences = calyearlyDifferences(data)\n",
        "print(\"A) Number of Occupied Housing Units from year to year\")\n",
        "for year, diff in differences:\n",
        "    print(f\"{year-1}-{year}: {diff}\")\n",
        "\n",
        "rates = calVancyRates(data)\n",
        "print(\"B) Percentage of housing units which are vacant and occupied\")\n",
        "for year in sorted(rates.keys()):\n",
        "    vacant, occupied = rates[year]\n",
        "    print(f\"{year} {vacant:.2f}% {occupied:.2f}%\")\n",
        "\n",
        "def findOccuipedunits(data):\n",
        "    occupiedDict = {int(row['year']): int(row['value']) for row in data if row['title_field'] == 'Occupied Housing Units'}\n",
        "    vacantDict = {int(row['year']): int(row['value']) for row in data if row['title_field'] == 'Vacant Housing Units'}\n",
        "\n",
        "    maxOccupiedYear = max(occupiedDict, key=occupiedDict.get)\n",
        "    maxVacantYear = max(vacantDict, key=vacantDict.get)\n",
        "\n",
        "    return {\n",
        "        'Vacant Housing Units': (maxVacantYear, vacantDict[maxVacantYear]),\n",
        "        'Occupied Housing Units': (maxOccupiedYear, occupiedDict[maxOccupiedYear])\n",
        "    }\n",
        "\n",
        "max_units = findOccuipedunits(data)\n",
        "print(f\"c) Value and years in which the highest number of housing units were vacant and occupied\")\n",
        "print(\"                          Year    Value\")\n",
        "for category, info in max_units.items():\n",
        "    print(f\"{category:25} {info[0]}   {info[1]}\")\n",
        "\n",
        "from statistics import harmonic_mean\n",
        "\n",
        "def calculate_harmonic_mean(data):\n",
        "    total_units = [int(row['value']) for row in data if row['title_field'] == 'Total Housing Units']\n",
        "    return harmonic_mean(total_units)\n",
        "\n",
        "harmonic_mean_value = calculate_harmonic_mean(data)\n",
        "print(f\"D) Harmonic Mean of total Housing units: {harmonic_mean_value:.2f}\")\n",
        "\n",
        "\n"
      ]
    },
    {
      "cell_type": "markdown",
      "source": [
        "# Mandatory Question\n",
        "\n",
        "Provide your thoughts on the assignment. What did you find challenging, and what aspects did you enjoy? Your opinion on the provided time to complete the assignment. Share any suggestions for improvement. Your feedback will be valuable for enhancing the learning experience."
      ],
      "metadata": {
        "id": "q8BFCvWp32cf"
      }
    },
    {
      "cell_type": "code",
      "source": [
        "# Write your response below\n",
        "#I have found this assignment tough and challenging,  I really liked learning how to import and handle data in Python, especially doing things like reading from a CSV file and processing the data and analyzing it. Also the calculator problem was something that i though python couldnt do it but using the right modules and built in functions it went good.Doing these kinds of assignments is really helping to broaden my programming skills and what all i can do."
      ],
      "metadata": {
        "id": "_e557s2w4BpK"
      },
      "execution_count": null,
      "outputs": []
    }
  ],
  "metadata": {
    "colab": {
      "provenance": [],
      "include_colab_link": true
    },
    "kernelspec": {
      "display_name": "Python 3 (ipykernel)",
      "language": "python",
      "name": "python3"
    },
    "language_info": {
      "codemirror_mode": {
        "name": "ipython",
        "version": 3
      },
      "file_extension": ".py",
      "mimetype": "text/x-python",
      "name": "python",
      "nbconvert_exporter": "python",
      "pygments_lexer": "ipython3",
      "version": "3.9.12"
    }
  },
  "nbformat": 4,
  "nbformat_minor": 0
}