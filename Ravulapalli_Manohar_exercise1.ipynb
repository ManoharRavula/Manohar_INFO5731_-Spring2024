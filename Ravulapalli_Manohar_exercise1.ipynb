{
  "cells": [
    {
      "cell_type": "markdown",
      "metadata": {
        "id": "view-in-github",
        "colab_type": "text"
      },
      "source": [
        "<a href=\"https://colab.research.google.com/github/ManoharRavula/Manohar_INFO5731_-Spring2024/blob/main/Ravulapalli_Manohar_exercise1.ipynb\" target=\"_parent\"><img src=\"https://colab.research.google.com/assets/colab-badge.svg\" alt=\"Open In Colab\"/></a>"
      ]
    },
    {
      "cell_type": "markdown",
      "metadata": {
        "id": "DymRJbxDBCnf"
      },
      "source": [
        "# **This first In-class-exercise cover a variety of fundamental concepts in Python and are designed to help individuals improve their coding skills and problem-solving abilities.**\n",
        "\n",
        "The submission is due on 01/31/2024 11:59 PM. This submission is worth 40 points in total.\n"
      ]
    },
    {
      "cell_type": "markdown",
      "source": [
        "(1) Write a Python program that  prompts the user to input the length and width of a rectangle, and then calculates and displays the area of the rectangle."
      ],
      "metadata": {
        "id": "FBKvD6O_TY6e"
      }
    },
    {
      "cell_type": "code",
      "source": [
        "def calculate_rectanglearea():\n",
        "    # Input to enter the length of the rectangle\n",
        "    length = float(input(\"Enter the length: \"))\n",
        "    # Input to enter the width of the rectangle\n",
        "    width = float(input(\"Enter the width: \"))\n",
        "\n",
        "    # Calculating the area\n",
        "    calculatedarea = length * width\n",
        "\n",
        "    print(f\"The area for the rectangle is: {calculatedarea}\")\n",
        "\n",
        "calculate_rectanglearea()\n"
      ],
      "metadata": {
        "colab": {
          "base_uri": "https://localhost:8080/"
        },
        "id": "daKVtIUTV4FJ",
        "outputId": "6b50e212-fc3f-41e3-e0c8-a5a188c3e41d"
      },
      "execution_count": null,
      "outputs": [
        {
          "output_type": "stream",
          "name": "stdout",
          "text": [
            "Enter the length: 20\n",
            "Enter the width: 40\n",
            "The area for the rectangle is: 800.0\n"
          ]
        }
      ]
    },
    {
      "cell_type": "markdown",
      "source": [
        "(2) Create a Python program that interactively takes two numerical inputs from the user and swaps their values without utilizing an extra variable."
      ],
      "metadata": {
        "id": "E9RqrlwdTfvl"
      }
    },
    {
      "cell_type": "code",
      "source": [
        "def swap_values():\n",
        "    num1 = float(input(\"Enter the first number: \"))\n",
        "    num2 = float(input(\"Enter the second number: \"))\n",
        "    print(f\"Original values: Num1 = {num1}, b = {num2}\")\n",
        "    num1,num2 = num2,num1\n",
        "    print(f\"Swapped values: Num1 = {num1}, Num2 = {num2}\")\n",
        "\n",
        "swap_values()\n"
      ],
      "metadata": {
        "id": "4XvRknixTh1g",
        "colab": {
          "base_uri": "https://localhost:8080/"
        },
        "outputId": "8c25fdaa-8107-41a2-8539-f4fc77e13ad3"
      },
      "execution_count": null,
      "outputs": [
        {
          "output_type": "stream",
          "name": "stdout",
          "text": [
            "Enter the first number: 3\n",
            "Enter the second number: 5\n",
            "Original values: Num1 = 3.0, b = 5.0\n",
            "Swapped values: Num1 = 5.0, Num2 = 3.0\n"
          ]
        }
      ]
    },
    {
      "cell_type": "markdown",
      "metadata": {
        "id": "03jb4GZsBkBS"
      },
      "source": [
        "(3) Write a Python script to determine and print the length of a user-input string."
      ]
    },
    {
      "cell_type": "code",
      "execution_count": null,
      "metadata": {
        "id": "YaGLbSHHB8Ej",
        "colab": {
          "base_uri": "https://localhost:8080/"
        },
        "outputId": "86be980a-b8e6-46a9-dbf1-827a0670a29c"
      },
      "outputs": [
        {
          "output_type": "stream",
          "name": "stdout",
          "text": [
            "Enter a string: my name is manohar\n",
            "The length of string is: 18\n"
          ]
        }
      ],
      "source": [
        "def print_string_length():\n",
        "    string = input(\"Enter a string: \")\n",
        "\n",
        "    # Calculating the length of the string\n",
        "    length = len(string)\n",
        "\n",
        "    print(f\"The length of string is: {length}\")\n",
        "\n",
        "print_string_length()\n",
        "\n"
      ]
    },
    {
      "cell_type": "markdown",
      "metadata": {
        "id": "jJDe71iLB616"
      },
      "source": [
        "(4) Construct a Python program that counts and displays the occurrences of each character in a given string.\n",
        "\n",
        "Sample String: 'openai.ai',\n",
        "\n",
        "Expected Result: {'a': 2, 'i': 2, '.': 1, 'o': 1, 'p': 1, 'e': 1, 'n': 1}"
      ]
    },
    {
      "cell_type": "code",
      "execution_count": null,
      "metadata": {
        "id": "MtKskTzbCLaU",
        "colab": {
          "base_uri": "https://localhost:8080/"
        },
        "outputId": "97cd3d36-7212-4c59-f9a7-36c314bc4460"
      },
      "outputs": [
        {
          "output_type": "stream",
          "name": "stdout",
          "text": [
            "{'o': 1, 'p': 1, 'e': 1, 'n': 1, 'a': 2, 'i': 2, '.': 1}\n"
          ]
        }
      ],
      "source": [
        "def character_occurrences_count():\n",
        "    sample_string = 'openai.ai'\n",
        "    countChars = {}\n",
        "    # Counting occurrences of each character\n",
        "    for char in sample_string:\n",
        "        if char in countChars:\n",
        "            countChars[char] += 1\n",
        "        else:\n",
        "            countChars[char] = 1\n",
        "    print(countChars)\n",
        "\n",
        "character_occurrences_count()\n",
        "\n"
      ]
    },
    {
      "cell_type": "markdown",
      "metadata": {
        "id": "55W9AMdXCSpV"
      },
      "source": [
        "(5) Design a Python code to calculate the sum of all elements in a user-provided list."
      ]
    },
    {
      "cell_type": "code",
      "execution_count": null,
      "metadata": {
        "id": "I57NXsauCec2",
        "colab": {
          "base_uri": "https://localhost:8080/"
        },
        "outputId": "28ff7a13-730c-4e1a-ee0a-ba4dbda6977a"
      },
      "outputs": [
        {
          "output_type": "stream",
          "name": "stdout",
          "text": [
            "Enter numbers with a space: 2 4 5\n",
            "The sum of all elements entered in the list is: 11.0\n"
          ]
        }
      ],
      "source": [
        "def calculateUserProvidedList():\n",
        "    numbers = input(\"Enter numbers with a space: \")\n",
        "    # Converting the string input to a list of numbers\n",
        "    number_list = [float(num) for num in numbers.split()]\n",
        "    # Calculating the list\n",
        "    total_sum = sum(number_list)\n",
        "    print(f\"The sum of all elements entered in the list is: {total_sum}\")\n",
        "calculateUserProvidedList()\n",
        "\n"
      ]
    },
    {
      "cell_type": "markdown",
      "metadata": {
        "id": "4ulBZ6yhCi9F"
      },
      "source": [
        "(6) Write a Python program that modifies a given string by replacing all occurrences of its first character with '$', excluding the first character itself.\n",
        "\n",
        "\n",
        "Sample String : 'restart‘,\n",
        "\n",
        "Expected Result : 'resta\\$t'"
      ]
    },
    {
      "cell_type": "code",
      "execution_count": null,
      "metadata": {
        "id": "Fj0XhwbBCw2o",
        "colab": {
          "base_uri": "https://localhost:8080/",
          "height": 36
        },
        "outputId": "ec603228-e6c9-46c9-b3b6-3bdb01db1d01"
      },
      "outputs": [
        {
          "output_type": "execute_result",
          "data": {
            "text/plain": [
              "'resta$t'"
            ],
            "application/vnd.google.colaboratory.intrinsic+json": {
              "type": "string"
            }
          },
          "metadata": {},
          "execution_count": 8
        }
      ],
      "source": [
        "def stringModification(string):\n",
        "    # Fcondition to check wheather its string or not\n",
        "    if not string:\n",
        "        return string\n",
        "    # Extract the first character\n",
        "    first_char = string[0]\n",
        "    #replacing all characters with $ expect first one\n",
        "    modified_string = first_char + string[1:].replace(first_char, '$')\n",
        "    return modified_string\n",
        "sample_string = 'restart'\n",
        "stringModification(sample_string)\n"
      ]
    },
    {
      "cell_type": "markdown",
      "source": [
        "(7) Write a Python program using a while loop to compute the factorial of a user-supplied number."
      ],
      "metadata": {
        "id": "qVXA3q7ET5JI"
      }
    },
    {
      "cell_type": "code",
      "source": [
        "def calfactorial():\n",
        "    number = int(input(\"Enter a number to calcluate the factorial: \"))\n",
        "    # Initializing the factorial to 1\n",
        "    factorial = 1\n",
        "    # Using a while loop\n",
        "    while number > 1:\n",
        "        factorial *= number\n",
        "        number -= 1\n",
        "    print(f\"The factorial is: {factorial}\")\n",
        "calfactorial()"
      ],
      "metadata": {
        "id": "Lbt7R6UkT7BA",
        "colab": {
          "base_uri": "https://localhost:8080/"
        },
        "outputId": "3d6268a3-8ad5-4cb8-ec07-62441e0969c1"
      },
      "execution_count": null,
      "outputs": [
        {
          "output_type": "stream",
          "name": "stdout",
          "text": [
            "Enter a number to calcluate the factorial: 5\n",
            "The factorial is: 120\n"
          ]
        }
      ]
    },
    {
      "cell_type": "markdown",
      "source": [
        "(8) Create a program that accepts a list of numbers as input and outputs a new list containing only the even numbers."
      ],
      "metadata": {
        "id": "6YfbzXMNT--R"
      }
    },
    {
      "cell_type": "code",
      "source": [
        "def filterEvenNumbers():\n",
        "    numbers_input = input(\"Enter numbers separating by space: \")\n",
        "    numbers = [int(num) for num in numbers_input.split()]\n",
        "    even_numbers = [num for num in numbers if num % 2 == 0]\n",
        "    print(f\"Even numbers from the list are: {even_numbers}\")\n",
        "\n",
        "filterEvenNumbers()\n"
      ],
      "metadata": {
        "id": "54q7wMQPUAKu",
        "colab": {
          "base_uri": "https://localhost:8080/"
        },
        "outputId": "a1b5295e-20a5-49ab-a53d-c08aed17b7e4"
      },
      "execution_count": null,
      "outputs": [
        {
          "output_type": "stream",
          "name": "stdout",
          "text": [
            "Enter numbers separating by space: 1 2 3 4 5 6\n",
            "Even numbers from the list are: [2, 4, 6]\n"
          ]
        }
      ]
    },
    {
      "cell_type": "markdown",
      "metadata": {
        "id": "_bIP7s1MCzue"
      },
      "source": [
        "\n",
        "(9) Design a Python function to check if a number is prime.\n"
      ]
    },
    {
      "cell_type": "code",
      "execution_count": null,
      "metadata": {
        "id": "w79QilHXD3Mg",
        "colab": {
          "base_uri": "https://localhost:8080/"
        },
        "outputId": "ba723b1d-1444-4f18-f913-08c76f55a583"
      },
      "outputs": [
        {
          "output_type": "stream",
          "name": "stdout",
          "text": [
            "Enter a number to check wheather its prime: 5\n",
            "5 is a prime number.\n"
          ]
        }
      ],
      "source": [
        "def checkPrime():\n",
        "    num = int(input(\"Enter a number to check wheather its prime: \"))\n",
        "    # validation to check if number is less than 2\n",
        "    if num < 2:\n",
        "        return False\n",
        "    for i in range(2, int(num**0.5) + 1):\n",
        "        if num % i == 0:\n",
        "            return print(f\"{num} is not a prime number.\")\n",
        "    return print(f\"{num} is a prime number.\")\n",
        "\n",
        "checkPrime()\n"
      ]
    },
    {
      "cell_type": "markdown",
      "metadata": {
        "id": "xCa2bK9aD4Q3"
      },
      "source": [
        "(10) Write a Python program to concatenate following dictionaries to create a new one.\n",
        "\n",
        "Sample Dictionary : dic1={1:10, 2:20}, dic2={3:30, 4:40}, dic3={5:50,6:60},\n",
        "\n",
        "Expected Result : {1: 10, 2: 20, 3: 30, 4: 40, 5: 50, 6: 60}\n"
      ]
    },
    {
      "cell_type": "code",
      "execution_count": null,
      "metadata": {
        "id": "_z4aLqAbEET1",
        "colab": {
          "base_uri": "https://localhost:8080/"
        },
        "outputId": "c56b8b22-ef23-4ac1-a353-99a090e1bf9e"
      },
      "outputs": [
        {
          "output_type": "stream",
          "name": "stdout",
          "text": [
            "{1: 10, 2: 20, 3: 30, 4: 40, 5: 50, 6: 60}\n"
          ]
        }
      ],
      "source": [
        "def concatdictionaries():\n",
        "    dic1 = {1: 10, 2: 20}\n",
        "    dic2 = {3: 30, 4: 40}\n",
        "    dic3 = {5: 50, 6: 60}\n",
        "    #Initializing new dictionary to contain others\n",
        "    concateddic = {}\n",
        "    # Concatenating\n",
        "    concateddic.update(dic1)\n",
        "    concateddic.update(dic2)\n",
        "    concateddic.update(dic3)\n",
        "    return concateddic\n",
        "\n",
        "concatenatedDictionary = concatdictionaries()\n",
        "print(concatenatedDictionary)\n",
        "\n"
      ]
    },
    {
      "cell_type": "markdown",
      "source": [
        "(11) Design a Python function that takes a tuple of integers as input and returns the largest and smallest elements."
      ],
      "metadata": {
        "id": "bkyZ2xSZUOst"
      }
    },
    {
      "cell_type": "code",
      "source": [
        "def findMaxAndMin():\n",
        "    numbers = input(\"Enter integers through space: \")\n",
        "    # Converting string inputs integer tuple\n",
        "    num_tuples = tuple(map(int, numbers.split()))\n",
        "    max_number = max(num_tuples)\n",
        "    min_number = min(num_tuples)\n",
        "    return max_number, min_number\n",
        "\n",
        "max_number, min_number = findMaxAndMin()\n",
        "print(f\"The largest number is: {max_number}\")\n",
        "print(f\"The smallest number is: {min_number}\")\n"
      ],
      "metadata": {
        "id": "3FdLRBKOUQEd",
        "colab": {
          "base_uri": "https://localhost:8080/"
        },
        "outputId": "803f1b65-1cd0-4cd8-d799-490c93573742"
      },
      "execution_count": null,
      "outputs": [
        {
          "output_type": "stream",
          "name": "stdout",
          "text": [
            "Enter integers through space: 2 5 7 9 11\n",
            "The largest number is: 11\n",
            "The smallest number is: 2\n"
          ]
        }
      ]
    },
    {
      "cell_type": "markdown",
      "source": [
        "(12) Write a Python program that counts the frequency of each character in a given string and stores it in a dictionary."
      ],
      "metadata": {
        "id": "O0TVi3gKUTpp"
      }
    },
    {
      "cell_type": "code",
      "source": [
        "def character_frequency(string):\n",
        "    # Initializing empty dictionary\n",
        "    freq_dict = {}\n",
        "    for char in string:\n",
        "        if char in freq_dict:\n",
        "            freq_dict[char] += 1\n",
        "        else:\n",
        "            freq_dict[char] = 1\n",
        "\n",
        "    return freq_dict\n",
        "\n",
        "dictionary = character_frequency(\"Manohar\")\n",
        "print(f\"Character frequencies: {dictionary}\")\n"
      ],
      "metadata": {
        "id": "lAtfSfZXUU-h",
        "colab": {
          "base_uri": "https://localhost:8080/"
        },
        "outputId": "81ad2241-c593-4ab9-e432-34a3c6a5bad8"
      },
      "execution_count": null,
      "outputs": [
        {
          "output_type": "stream",
          "name": "stdout",
          "text": [
            "Character frequencies: {'M': 1, 'a': 2, 'n': 1, 'o': 1, 'h': 1, 'r': 1}\n"
          ]
        }
      ]
    },
    {
      "cell_type": "markdown",
      "metadata": {
        "id": "0v48Vqa7FrQh"
      },
      "source": [
        "(13) Implement a Python script to identify duplicate elements in a provided array of integers. Return -1 if there are no duplicates."
      ]
    },
    {
      "cell_type": "code",
      "execution_count": null,
      "metadata": {
        "id": "7WEmgq-DF2P1",
        "colab": {
          "base_uri": "https://localhost:8080/"
        },
        "outputId": "7fda0432-7f01-4f71-ea3c-824e3128f9d0"
      },
      "outputs": [
        {
          "output_type": "stream",
          "name": "stdout",
          "text": [
            "Enter integers separated by space: 1 2 3 4 5\n",
            "No duplicates found.\n"
          ]
        }
      ],
      "source": [
        "def findDuplicates(numbers):\n",
        "    # Count occurrences of each element\n",
        "    count_dict = {}\n",
        "    for num in numbers:\n",
        "        count_dict[num] = count_dict.get(num, 0) + 1\n",
        "    numduplicates = [num for num, count in count_dict.items() if count > 1]\n",
        "    return numduplicates if numduplicates else -1\n",
        "\n",
        "\n",
        "numberlist = [int(x) for x in input(\"Enter integers separated by space: \").split()]\n",
        "result = findDuplicates(numberlist)\n",
        "if result == -1:\n",
        "    print(\"No duplicates found.\")\n",
        "else:\n",
        "    print(f\"Duplicate elements: {result}\")\n",
        "\n"
      ]
    },
    {
      "cell_type": "markdown",
      "metadata": {
        "id": "vD5PYLMuGga_"
      },
      "source": [
        "(14) Write a Python script to find the common elements between two lists."
      ]
    },
    {
      "cell_type": "code",
      "execution_count": null,
      "metadata": {
        "id": "t0D5kdJUGjjw",
        "colab": {
          "base_uri": "https://localhost:8080/"
        },
        "outputId": "86d009f0-4162-48b8-cf5e-d274ca393db9"
      },
      "outputs": [
        {
          "output_type": "stream",
          "name": "stdout",
          "text": [
            "Common elements are: {1, 4, 7}\n"
          ]
        }
      ],
      "source": [
        "def findCommonElements(list1, list2):\n",
        "    # Converting lists to sets\n",
        "    set1 = set(list1)\n",
        "    set2 = set(list2)\n",
        "    # Finding intersection\n",
        "    common_elements = set1.intersection(set2)\n",
        "    return common_elements\n",
        "\n",
        "list1 = [1,2,4,6,7]\n",
        "list2 = [1,3,4,7]\n",
        "commonElements = findCommonElements(list1, list2)\n",
        "if commonElements:\n",
        "    print(f\"Common elements are: {commonElements}\")\n",
        "else:\n",
        "    print(\"No common found.\")\n",
        "\n"
      ]
    },
    {
      "cell_type": "markdown",
      "metadata": {
        "id": "uHkd-y5VhVWC"
      },
      "source": [
        "(15) Write a Python program to randomly divide the students in this class into six groups for term projects, each group should have at least 4 students but no more than 6 students (including 6).\n",
        "\n",
        "Here is the students list:\n",
        "\n",
        "student_list_spring_2024=[rb0846,\n",
        "ac1964,\n",
        "hc0612,\n",
        "md0912,\n",
        "ad1198,\n",
        "md0894,\n",
        "md0825,\n",
        "vg0598,\n",
        "vg0433,\n",
        "mh1068,\n",
        "yj0173,\n",
        "pk0553,\n",
        "tk0411,\n",
        "srk0204,\n",
        "sk2922,\n",
        "sk2936,\n",
        "mk1302,\n",
        "mk1317,\n",
        "tk0412,\n",
        "vk0656,\n",
        "sm2985,\n",
        "mm2372,\n",
        "un0045,\n",
        "an0892,\n",
        "sn0913,\n",
        "gp0252,\n",
        "ap1484,\n",
        "mr1765,\n",
        "sr1385,\n",
        "sr1335,\n",
        "hs0665,\n",
        "ms2060,\n",
        "gt0217,\n",
        "nt0385,\n",
        "tv0186,\n",
        "sv1394,\n",
        "sv1752,\n",
        "sv1555,\n",
        "sy0594\n",
        "]\n"
      ]
    },
    {
      "cell_type": "code",
      "execution_count": null,
      "metadata": {
        "id": "3iGbmcOBhTwy",
        "colab": {
          "base_uri": "https://localhost:8080/"
        },
        "outputId": "119e3c02-0da2-44a7-fb32-cb39a91762e9"
      },
      "outputs": [
        {
          "output_type": "stream",
          "name": "stdout",
          "text": [
            "Group 1 (7 students): ['gt0217', 'vg0598', 'rb0846', 'mm2372', 'md0825', 'sv1394', 'sn0913']\n",
            "Group 2 (7 students): ['mh1068', 'md0894', 'sk2936', 'ms2060', 'srk0204', 'hc0612', 'sy0594']\n",
            "Group 3 (7 students): ['sr1335', 'ac1964', 'sm2985', 'pk0553', 'sr1385', 'hs0665', 'ad1198']\n",
            "Group 4 (6 students): ['gp0252', 'tk0412', 'sv1752', 'sk2922', 'an0892', 'sv1555']\n",
            "Group 5 (6 students): ['mk1302', 'vg0433', 'vk0656', 'un0045', 'tv0186', 'nt0385']\n",
            "Group 6 (6 students): ['mr1765', 'md0912', 'ap1484', 'mk1317', 'tk0411', 'yj0173']\n"
          ]
        }
      ],
      "source": [
        "import random\n",
        "\n",
        "def dividingGroups(listofstudents, num_groups):\n",
        "    random.shuffle(listofstudents)\n",
        "    group_sizes = [len(listofstudents) // num_groups + (1 if i < len(listofstudents) % num_groups else 0) for i in range(num_groups)]\n",
        "\n",
        "    groups = []\n",
        "    start = 0\n",
        "    for size in group_sizes:\n",
        "        groups.append(listofstudents[start:start + size])\n",
        "        start += size\n",
        "\n",
        "    return groups\n",
        "\n",
        "student_list_spring_2024 = [\"rb0846\", \"ac1964\", \"hc0612\", \"md0912\", \"ad1198\", \"md0894\", \"md0825\", \"vg0598\", \"vg0433\", \"mh1068\", \"yj0173\", \"pk0553\", \"tk0411\", \"srk0204\", \"sk2922\", \"sk2936\", \"mk1302\", \"mk1317\", \"tk0412\", \"vk0656\", \"sm2985\", \"mm2372\", \"un0045\", \"an0892\", \"sn0913\", \"gp0252\", \"ap1484\", \"mr1765\", \"sr1385\", \"sr1335\", \"hs0665\", \"ms2060\", \"gt0217\", \"nt0385\", \"tv0186\", \"sv1394\", \"sv1752\", \"sv1555\", \"sy0594\"]\n",
        "\n",
        "groups = dividingGroups(student_list_spring_2024, 6)\n",
        "\n",
        "for i, group in enumerate(groups):\n",
        "    print(f\"Group {i + 1} ({len(group)} students): {group}\")\n"
      ]
    },
    {
      "cell_type": "markdown",
      "metadata": {
        "id": "fmZ9vX20Qs3d"
      },
      "source": [
        "(16) Create a program that takes a positive integer 'n' as input and prints the count of even numbers from 1 to 'n'. Optimize the loop using the break statement."
      ]
    },
    {
      "cell_type": "code",
      "execution_count": null,
      "metadata": {
        "id": "W8Jw6sWMQs3d",
        "colab": {
          "base_uri": "https://localhost:8080/"
        },
        "outputId": "27103b65-ea38-4c22-daf3-e95e788cb72b"
      },
      "outputs": [
        {
          "output_type": "stream",
          "name": "stdout",
          "text": [
            "Enter any positive integer: 10\n",
            "Even numbers between 1 to 10: 5\n"
          ]
        }
      ],
      "source": [
        "def CountOfEventNumbers(n):\n",
        "    count = 0\n",
        "    for i in range(1, n + 1):\n",
        "        if i % 2 == 0:\n",
        "            count += 1\n",
        "        if i == n:\n",
        "            break\n",
        "    return count\n",
        "\n",
        "n = int(input(\"Enter any positive integer: \"))\n",
        "print(f\"Even numbers between 1 to {n}: {CountOfEventNumbers(n)}\")\n",
        "\n"
      ]
    },
    {
      "cell_type": "markdown",
      "metadata": {
        "id": "hvq4APMhQs3d"
      },
      "source": [
        "(17) Develop a Python function called 'count_vowels' that takes a string as input and returns the count of vowels (both lowercase and uppercase) present in the string, ignoring spaces and non-alphabetic characters."
      ]
    },
    {
      "cell_type": "code",
      "execution_count": null,
      "metadata": {
        "id": "ZnoxhSglQs3d",
        "colab": {
          "base_uri": "https://localhost:8080/"
        },
        "outputId": "dbbc0763-d89a-4e11-cdfa-75fbc3281332"
      },
      "outputs": [
        {
          "output_type": "stream",
          "name": "stdout",
          "text": [
            "Enter a name: manohar\n",
            "Count of vowels: 3\n"
          ]
        }
      ],
      "source": [
        "def countVowelsInString(input_string):\n",
        "    # Defining the vowels\n",
        "    vowels = 'aeiouAEIOU'\n",
        "    # Initializing the count of vowels\n",
        "    vowel_count = 0\n",
        "    for char in input_string:\n",
        "        if char in vowels:\n",
        "            vowel_count += 1\n",
        "    return vowel_count\n",
        "\n",
        "string = input(\"Enter a name: \")\n",
        "print(f\"Count of vowels: {countVowelsInString(string)}\")\n",
        "\n"
      ]
    },
    {
      "cell_type": "markdown",
      "source": [
        "(18) Create a custom exception named ValueTooSmallError in Python. Write a program that takes user input for an age, and if the entered age is less than 18, raise the ValueTooSmallError with an appropriate error message."
      ],
      "metadata": {
        "id": "55FWoSJPVVM6"
      }
    },
    {
      "cell_type": "code",
      "source": [
        "class ValueTooSmallError(Exception):\n",
        "    def __init__(self, message=\"Value is too small\"):\n",
        "        self.message = message\n",
        "        super().__init__(self.message)\n",
        "\n",
        "# Step 2: Write the Program\n",
        "def checkAge():\n",
        "    try:\n",
        "        age = int(input(\"Enter your age: \"))\n",
        "        if age < 18:\n",
        "            raise ValueTooSmallError(\"Entered age is less than 18.\")\n",
        "        else:\n",
        "            print(\"You are 18 and eligible!\")\n",
        "    except ValueTooSmallError as e:\n",
        "        print(e)\n",
        "    except ValueError:\n",
        "        print(\"Please enter a valid integer for age.\")\n",
        "\n",
        "checkAge()\n",
        "\n"
      ],
      "metadata": {
        "id": "hwtr1wZmVX5A",
        "colab": {
          "base_uri": "https://localhost:8080/"
        },
        "outputId": "79fad884-c65d-48b6-c585-77ff0feb51a8"
      },
      "execution_count": null,
      "outputs": [
        {
          "output_type": "stream",
          "name": "stdout",
          "text": [
            "Enter your age: 18\n",
            "You are 18 and eligible!\n"
          ]
        }
      ]
    },
    {
      "cell_type": "markdown",
      "source": [
        "(19) Develop a script that reverses a given string without using built-in reverse functions."
      ],
      "metadata": {
        "id": "Q9ecagcaVazW"
      }
    },
    {
      "cell_type": "code",
      "source": [
        "def reverseString(string):\n",
        "    # Reversing the string using slicing method\n",
        "    revstring = string[::-1]\n",
        "    return revstring\n",
        "string = input(\"Enter a string to reverse it: \")\n",
        "print(f\"Reversed string: {reverseString(string)}\")\n",
        "\n"
      ],
      "metadata": {
        "id": "gycgckoAVZjR",
        "colab": {
          "base_uri": "https://localhost:8080/"
        },
        "outputId": "d11d7008-c72c-448b-aac2-5b10ad292fb4"
      },
      "execution_count": null,
      "outputs": [
        {
          "output_type": "stream",
          "name": "stdout",
          "text": [
            "Enter a string to reverse it: Manohar\n",
            "Reversed string: rahonaM\n"
          ]
        }
      ]
    },
    {
      "cell_type": "markdown",
      "source": [
        "(20) Implement a Python script to generate a random password of a specified length."
      ],
      "metadata": {
        "id": "ZFG6RibifMLu"
      }
    },
    {
      "cell_type": "code",
      "source": [
        "import random\n",
        "import string\n",
        "\n",
        "def generateUniquePassword(length):\n",
        "    characters = string.ascii_letters + string.digits + string.punctuation\n",
        "    # Generating password\n",
        "    random_password = ''.join(random.choice(characters) for _ in range(length))\n",
        "    return random_password\n",
        "length = int(input(\"Enter the wanted length of the password: \"))\n",
        "print(f\"Random Password: {generateUniquePassword(length)}\")\n"
      ],
      "metadata": {
        "id": "BFVrkEi9fNiD",
        "colab": {
          "base_uri": "https://localhost:8080/"
        },
        "outputId": "cddbafc9-44f8-4f22-a46e-2841a6e2ee86"
      },
      "execution_count": null,
      "outputs": [
        {
          "output_type": "stream",
          "name": "stdout",
          "text": [
            "Enter the wanted length of the password: 6\n",
            "Random Password: ]&5n\\0\n"
          ]
        }
      ]
    },
    {
      "cell_type": "markdown",
      "source": [
        "# Try these questions:"
      ],
      "metadata": {
        "id": "6SmvS7nSfbj8"
      }
    },
    {
      "cell_type": "markdown",
      "source": [
        "(21) Define a base class called 'Vehicle' with attributes make and model. Create a derived class Car that inherits from Vehicle and has an additional attribute 'num_doors'. Demonstrate an example of creating an instance of the 'Car' class and accessing its attributes."
      ],
      "metadata": {
        "id": "cboAr5pEWUf5"
      }
    },
    {
      "cell_type": "code",
      "source": [
        "# write your answer here\n"
      ],
      "metadata": {
        "id": "phs9gciMWWAW"
      },
      "execution_count": null,
      "outputs": []
    },
    {
      "cell_type": "markdown",
      "source": [
        "(22) Create a class called 'Shape' with a method calculate_area(). Implement two derived classes 'Circle' and 'Rectangle' that inherit from Shape and override the calculate_area() method. Demonstrate polymorphism by creating instances of both derived classes and calling the calculate_area() method."
      ],
      "metadata": {
        "id": "J8HHefNtePwd"
      }
    },
    {
      "cell_type": "code",
      "source": [
        "# write your answer here"
      ],
      "metadata": {
        "id": "btnMmUZDeRhS"
      },
      "execution_count": null,
      "outputs": []
    },
    {
      "cell_type": "markdown",
      "source": [
        "(23) Write a Python program that prompts the user to enter two numbers and perform a division operation. Handle exceptions for both zero division and invalid input (non-numeric input). Display appropriate error messages for each type of exception and ensure the program does not crash due to these errors."
      ],
      "metadata": {
        "id": "z0oqEAlTeMUS"
      }
    },
    {
      "cell_type": "code",
      "source": [
        "# write your answer here"
      ],
      "metadata": {
        "id": "yjdc1zM1eMAs"
      },
      "execution_count": null,
      "outputs": []
    },
    {
      "cell_type": "markdown",
      "source": [
        "# Mandatory Question"
      ],
      "metadata": {
        "id": "sZOhks1dXWEe"
      }
    },
    {
      "cell_type": "markdown",
      "source": [
        "**Important:**\n",
        "Reflecting on the first three lectures and the exercises you've completed, please provide feedback on your learning experience. Share your thoughts on whether the material covered was clear, the exercises were helpful, and if you feel more confident in applying Python programming concepts. Additionally, mention any specific areas where you would like more clarification or topics you would like to explore further in future lectures. Your feedback is valuable in shaping the course for an effective learning journey."
      ],
      "metadata": {
        "id": "eqmHVEwaWhbV"
      }
    },
    {
      "cell_type": "markdown",
      "source": [
        "Write your response here."
      ],
      "metadata": {
        "id": "HlpXOT9wXQAd"
      }
    },
    {
      "cell_type": "code",
      "source": [
        "After the first three lectures and exercises, I've developed a good base understanding of Python. The lectures covered all of the fundamentals, including stemming, stopwords, lemmatization, POS tagging, and even how generative AI works. The in-class lectures and demos provided me a good overview about Object oriented python programming, topics like polymorphism, encapsulation and inheritance.  Solving the exercise questions showed me how Python can be used to solve real word problems. It also helped me learn how to use imports, functions, loops, if statements, and handle user input. The exercises and what I have learned so far have been great."
      ],
      "metadata": {
        "id": "Dq2aOZU7XIke"
      },
      "execution_count": null,
      "outputs": []
    }
  ],
  "metadata": {
    "colab": {
      "provenance": [],
      "include_colab_link": true
    },
    "kernelspec": {
      "display_name": "Python 3 (ipykernel)",
      "language": "python",
      "name": "python3"
    },
    "language_info": {
      "codemirror_mode": {
        "name": "ipython",
        "version": 3
      },
      "file_extension": ".py",
      "mimetype": "text/x-python",
      "name": "python",
      "nbconvert_exporter": "python",
      "pygments_lexer": "ipython3",
      "version": "3.9.12"
    }
  },
  "nbformat": 4,
  "nbformat_minor": 0
}